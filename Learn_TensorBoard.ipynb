{
 "cells": [
  {
   "cell_type": "code",
   "execution_count": 3,
   "metadata": {},
   "outputs": [],
   "source": [
    "import tensorflow as tf\n",
    "from tensorflow.examples.tutorials.mnist import input_data"
   ]
  },
  {
   "cell_type": "code",
   "execution_count": 4,
   "metadata": {},
   "outputs": [
    {
     "name": "stdout",
     "output_type": "stream",
     "text": [
      "Extracting 01_MNIST/data/train-images-idx3-ubyte.gz\n",
      "Extracting 01_MNIST/data/train-labels-idx1-ubyte.gz\n",
      "Extracting 01_MNIST/data/t10k-images-idx3-ubyte.gz\n",
      "Extracting 01_MNIST/data/t10k-labels-idx1-ubyte.gz\n",
      "Iter 1 Test accury is 0.95590 with learning rate 0.001000\n"
     ]
    }
   ],
   "source": [
    "\n",
    "# 设置数据存储路径\n",
    "data_path = '01_MNIST/data/'\n",
    "mnist = input_data.read_data_sets(data_path, one_hot=True)\n",
    "\n",
    "with tf.name_scope('input'):    \n",
    "    x = tf.placeholder(tf.float32, [None, 784], name='x-input')\n",
    "    y = tf.placeholder(tf.float32, [None, 10], name='y-input')\n",
    "\n",
    "dim1 = 200\n",
    "\n",
    "w1 = tf.Variable(tf.truncated_normal((784, dim1), stddev=0.1))\n",
    "b1 = tf.Variable(tf.zeros((1, dim1)))\n",
    "\n",
    "dim2 = 100\n",
    "w2 = tf.Variable(tf.truncated_normal((dim1, dim2), stddev=0.1))\n",
    "b2 = tf.Variable(tf.zeros((1, dim2)))\n",
    "\n",
    "dim3 = 10\n",
    "w3 = tf.Variable(tf.truncated_normal((dim2, dim3), stddev=0.1))\n",
    "b3 = tf.Variable(tf.zeros((1, dim3)))\n",
    "\n",
    "layer1 = tf.nn.relu(tf.matmul(x, w1) + b1)\n",
    "layer2 = tf.nn.relu(tf.matmul(layer1, w2) + b2)\n",
    "y_ = tf.matmul(layer2, w3) + b3\n",
    "\n",
    "loss = tf.nn.softmax_cross_entropy_with_logits(labels=y, logits=y_)\n",
    "loss = tf.reduce_mean(loss)\n",
    "\n",
    "lr = tf.Variable(0., dtype=tf.float32)\n",
    "train_step = tf.train.AdamOptimizer(lr).minimize(loss)\n",
    "\n",
    "batch_size = 100\n",
    "batch_num = mnist.train.num_examples // batch_size\n",
    "\n",
    "# 计算机准确率\n",
    "# 学习到的函数 tf.argmax() 返回最大值的下标\n",
    "accury = tf.equal(tf.argmax(y_, axis=1), tf.argmax(y, axis=1))\n",
    "accury = tf.reduce_mean(tf.cast(accury, tf.float32))\n",
    "\n",
    "with tf.Session() as sess:\n",
    "    sess.run(tf.global_variables_initializer())\n",
    "    \n",
    "    for epoch in range(1):\n",
    "        sess.run(tf.assign(lr, 0.001 *(0.95**epoch)))\n",
    "        writer = tf.summary.FileWriter('logs/', sess.graph)\n",
    "        for _ in range(batch_num):\n",
    "            xs, ys = mnist.train.next_batch(batch_size)\n",
    "            sess.run(train_step, feed_dict={x:xs, y:ys})\n",
    "        \n",
    "        temp_accury = sess.run(accury, feed_dict={x:mnist.test.images, y:mnist.test.labels})\n",
    "        \n",
    "        print('Iter %d Test accury is %.5f with learning rate %f' %(epoch+1, temp_accury, sess.run(lr)))\n",
    "        "
   ]
  },
  {
   "cell_type": "code",
   "execution_count": null,
   "metadata": {},
   "outputs": [],
   "source": []
  }
 ],
 "metadata": {
  "kernelspec": {
   "display_name": "ml",
   "language": "python",
   "name": "ml"
  },
  "language_info": {
   "codemirror_mode": {
    "name": "ipython",
    "version": 3
   },
   "file_extension": ".py",
   "mimetype": "text/x-python",
   "name": "python",
   "nbconvert_exporter": "python",
   "pygments_lexer": "ipython3",
   "version": "3.6.8"
  }
 },
 "nbformat": 4,
 "nbformat_minor": 2
}
