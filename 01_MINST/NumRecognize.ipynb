{
 "cells": [
  {
   "cell_type": "code",
   "execution_count": 2,
   "metadata": {},
   "outputs": [],
   "source": [
    "import tensorflow as tf\n",
    "from tensorflow.examples.tutorials.mnist import input_data\n",
    "import numpy as np"
   ]
  },
  {
   "cell_type": "markdown",
   "metadata": {},
   "source": [
    "定义只有含有一个隐藏层的神经网络，隐藏层结点数为200，使用relu作为激活函数。损失函数为信息交叉熵。"
   ]
  },
  {
   "cell_type": "code",
   "execution_count": 3,
   "metadata": {},
   "outputs": [
    {
     "name": "stdout",
     "output_type": "stream",
     "text": [
      "Extracting data/train-images-idx3-ubyte.gz\n",
      "Extracting data/train-labels-idx1-ubyte.gz\n",
      "Extracting data/t10k-images-idx3-ubyte.gz\n",
      "Extracting data/t10k-labels-idx1-ubyte.gz\n",
      "Iter 1 accury is 0.77\n",
      "Iter 2 accury is 0.82\n",
      "Iter 3 accury is 0.85\n",
      "Iter 4 accury is 0.86\n",
      "Iter 5 accury is 0.87\n",
      "Iter 6 accury is 0.87\n",
      "Iter 7 accury is 0.88\n",
      "Iter 8 accury is 0.88\n",
      "Iter 9 accury is 0.89\n",
      "Iter 10 accury is 0.89\n",
      "Iter 11 accury is 0.89\n",
      "Iter 12 accury is 0.89\n",
      "Iter 13 accury is 0.89\n",
      "Iter 14 accury is 0.90\n",
      "Iter 15 accury is 0.90\n",
      "Iter 16 accury is 0.90\n",
      "Iter 17 accury is 0.90\n",
      "Iter 18 accury is 0.90\n",
      "Iter 19 accury is 0.91\n",
      "Iter 20 accury is 0.91\n",
      "Iter 21 accury is 0.90\n",
      "Iter 22 accury is 0.91\n",
      "Iter 23 accury is 0.91\n",
      "Iter 24 accury is 0.91\n",
      "Iter 25 accury is 0.91\n",
      "Iter 26 accury is 0.91\n",
      "Iter 27 accury is 0.91\n",
      "Iter 28 accury is 0.91\n",
      "Iter 29 accury is 0.91\n",
      "Iter 30 accury is 0.91\n"
     ]
    }
   ],
   "source": [
    "\n",
    "# 设置数据存储路径\n",
    "data_path = 'data/'\n",
    "mnist = input_data.read_data_sets(data_path, one_hot=True)\n",
    "\n",
    "x = tf.placeholder(tf.float32, [None, 784])\n",
    "y = tf.placeholder(tf.float32, [None, 10])\n",
    "\n",
    "dim1 = 200\n",
    "\n",
    "w1 = tf.Variable(tf.random_normal((784, dim1)))\n",
    "b1 = tf.Variable(tf.zeros((1, dim1)))\n",
    "\n",
    "dim2 = 10\n",
    "w2 = tf.Variable(tf.random_normal((dim1, dim2)))\n",
    "b2 = tf.Variable(tf.zeros((1, dim2)))\n",
    "\n",
    "layer = tf.nn.relu(tf.matmul(x, w1) + b1)\n",
    "\n",
    "y_ = tf.matmul(layer, w2) + b2\n",
    "\n",
    "loss = tf.nn.softmax_cross_entropy_with_logits(labels=y, logits=y_)\n",
    "loss = tf.reduce_mean(loss)\n",
    "\n",
    "train_step = tf.train.GradientDescentOptimizer(0.02).minimize(loss)\n",
    "\n",
    "batch_size = 256\n",
    "batch_num = mnist.train.num_examples // batch_size\n",
    "\n",
    "# 计算机准确率\n",
    "# 学习到的函数 tf.argmax() 返回最大值的下标\n",
    "accury = tf.equal(tf.argmax(y_, axis=1), tf.argmax(y, axis=1))\n",
    "accury = tf.reduce_mean(tf.cast(accury, tf.float32))\n",
    "\n",
    "with tf.Session() as sess:\n",
    "    sess.run(tf.global_variables_initializer())\n",
    "    \n",
    "    for epoch in range(30):\n",
    "        for _ in range(batch_num):\n",
    "            xs, ys = mnist.train.next_batch(batch_size)\n",
    "            sess.run(train_step, feed_dict={x:xs, y:ys})\n",
    "        \n",
    "        print('Iter %d accury is %.2f' %(epoch+1, sess.run(accury, feed_dict={x:mnist.test.images, y:mnist.test.labels})))\n",
    "        "
   ]
  },
  {
   "cell_type": "code",
   "execution_count": 25,
   "metadata": {},
   "outputs": [
    {
     "name": "stdout",
     "output_type": "stream",
     "text": [
      "[1.0598311]\n"
     ]
    }
   ],
   "source": [
    "# 学习softmax_cross_entropy_with_logits函数\n",
    "y = tf.constant([[0.5, 0.2, 0.3]])\n",
    "y_ = tf.constant([[0.5, 0.2, 0.3]])\n",
    "result = tf.nn.softmax_cross_entropy_with_logits(labels=y, logits=y)\n",
    "with tf.Session() as sess:\n",
    "    print(sess.run(result))"
   ]
  }
 ],
 "metadata": {
  "kernelspec": {
   "display_name": "ml",
   "language": "python",
   "name": "ml"
  },
  "language_info": {
   "codemirror_mode": {
    "name": "ipython",
    "version": 3
   },
   "file_extension": ".py",
   "mimetype": "text/x-python",
   "name": "python",
   "nbconvert_exporter": "python",
   "pygments_lexer": "ipython3",
   "version": "3.6.8"
  }
 },
 "nbformat": 4,
 "nbformat_minor": 2
}
