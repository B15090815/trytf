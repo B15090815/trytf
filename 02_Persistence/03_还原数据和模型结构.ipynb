{
 "cells": [
  {
   "cell_type": "code",
   "execution_count": 4,
   "metadata": {},
   "outputs": [],
   "source": [
    "import tensorflow as tf"
   ]
  },
  {
   "cell_type": "code",
   "execution_count": 3,
   "metadata": {},
   "outputs": [
    {
     "name": "stdout",
     "output_type": "stream",
     "text": [
      "INFO:tensorflow:Restoring parameters from model/test.ckpt\n",
      "[3.]\n"
     ]
    }
   ],
   "source": [
    "saver = tf.train.import_meta_graph('model/test.ckpt.meta')\n",
    "sess = tf.Session()\n",
    "\n",
    "saver.restore(sess, 'model/test.ckpt')\n",
    "result = sess.run(tf.get_default_graph().get_tensor_by_name('add:0'))\n",
    "print(result)\n",
    "sess.close()"
   ]
  },
  {
   "cell_type": "code",
   "execution_count": null,
   "metadata": {},
   "outputs": [],
   "source": [
    "v3 = tf.Variable(tf.constant(3., shape=[1]))\n",
    "ema = tf.train.ExponentialMovingAverage(0.9)"
   ]
  }
 ],
 "metadata": {
  "kernelspec": {
   "display_name": "ml",
   "language": "python",
   "name": "ml"
  },
  "language_info": {
   "codemirror_mode": {
    "name": "ipython",
    "version": 3
   },
   "file_extension": ".py",
   "mimetype": "text/x-python",
   "name": "python",
   "nbconvert_exporter": "python",
   "pygments_lexer": "ipython3",
   "version": "3.6.8"
  }
 },
 "nbformat": 4,
 "nbformat_minor": 2
}
