{
 "cells": [
  {
   "cell_type": "code",
   "execution_count": 1,
   "metadata": {},
   "outputs": [],
   "source": [
    "import tensorflow as tf"
   ]
  },
  {
   "cell_type": "code",
   "execution_count": 3,
   "metadata": {},
   "outputs": [
    {
     "name": "stdout",
     "output_type": "stream",
     "text": [
      "INFO:tensorflow:Restoring parameters from model/test.ckpt\n",
      "[3.]\n"
     ]
    }
   ],
   "source": [
    "saver = tf.train.import_meta_graph('model/test.ckpt.meta')\n",
    "sess = tf.Session()\n",
    "\n",
    "saver.restore(sess, 'model/test.ckpt')\n",
    "result = sess.run(tf.get_default_graph().get_tensor_by_name('add:0'))\n",
    "print(result)\n",
    "sess.close()"
   ]
  },
  {
   "cell_type": "code",
   "execution_count": 10,
   "metadata": {},
   "outputs": [
    {
     "name": "stdout",
     "output_type": "stream",
     "text": [
      "3.0\n",
      "3.1\n"
     ]
    }
   ],
   "source": [
    "v3 = tf.Variable(3.)\n",
    "ema = tf.train.ExponentialMovingAverage(0.9)\n",
    "ema_op = ema.apply([v3])\n",
    "\n",
    "with tf.Session() as sess:\n",
    "    sess.run(tf.global_variables_initializer())\n",
    "    print(sess.run(ema.average(v3)))\n",
    "    sess.run(tf.assign(v3, 4.0))\n",
    "    sess.run(ema_op)\n",
    "    print(sess.run(ema.average(v3)))"
   ]
  },
  {
   "cell_type": "code",
   "execution_count": null,
   "metadata": {},
   "outputs": [],
   "source": []
  }
 ],
 "metadata": {
  "kernelspec": {
   "display_name": "ml",
   "language": "python",
   "name": "ml"
  },
  "language_info": {
   "codemirror_mode": {
    "name": "ipython",
    "version": 3
   },
   "file_extension": ".py",
   "mimetype": "text/x-python",
   "name": "python",
   "nbconvert_exporter": "python",
   "pygments_lexer": "ipython3",
   "version": "3.6.8"
  }
 },
 "nbformat": 4,
 "nbformat_minor": 2
}
